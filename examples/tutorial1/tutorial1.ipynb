{
 "cells": [
  {
   "cell_type": "markdown",
   "metadata": {},
   "source": [
    "# pyPanair Tutorial#1 Rectangular Wing  \n",
    "---------------------------------------\n",
    "\n",
    "In this tutorial we will perform an analysis of a rectangular wing with a NACA0012 airfoil.  \n",
    "A brief overview of the procedure is listed below:  \n",
    "1. Define the geometry of the wing using `wgs_creator.py`, and create input files `naca0012.wgs` and `naca0012.aux` for `panin`\n",
    "2. Using the preprocessor `panin`, create an input file `a502.in` for `panair`\n",
    "3. Run the analysis\n",
    "4. Visualize the results from the analysis via `agps_converter.py` and `ffmf_converter.py`"
   ]
  },
  {
   "cell_type": "markdown",
   "metadata": {
    "collapsed": true
   },
   "source": [
    "## 1. Defining the geometry\n",
    "---------------------------------------\n",
    "First off, we will begin by defining the geometry of the rectangular wing.  \n",
    "The input geometry for `panair` (or more precisely, its preprocessor `panin`) is defined in the Langley Wireframe Geometry Standard (LaWGS) format. The format is described in [reference 1](https://ntrs.nasa.gov/search.jsp?R=19850014069).  \n",
    "In a nutshell, the LaWGS format is a bundle of $m \\times n$, which are refereed to as networks"
   ]
  },
  {
   "cell_type": "code",
   "execution_count": null,
   "metadata": {},
   "outputs": [],
   "source": [
    ""
   ]
  }
 ],
 "metadata": {
  "kernelspec": {
   "display_name": "Python 3",
   "language": "python",
   "name": "python3"
  },
  "language_info": {
   "codemirror_mode": {
    "name": "ipython",
    "version": 3.0
   },
   "file_extension": ".py",
   "mimetype": "text/x-python",
   "name": "python",
   "nbconvert_exporter": "python",
   "pygments_lexer": "ipython3",
   "version": "3.6.0"
  }
 },
 "nbformat": 4,
 "nbformat_minor": 0
}