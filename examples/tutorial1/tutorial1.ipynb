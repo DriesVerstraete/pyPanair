{
 "cells": [
  {
   "cell_type": "markdown",
   "metadata": {},
   "source": [
    "# pyPanair Tutorial#1 Rectangular Wing  \n",
    "---------------------------------------\n",
    "\n",
    "In this tutorial we will perform an analysis of a rectangular wing with a NACA0012 airfoil.  \n",
    "A brief overview of the procedure is listed below:  \n",
    "1. Define the geometry of the wing using `wgs_creator.py`, and create input files `naca0012.wgs` and `naca0012.aux` for `panin`\n",
    "2. Using the preprocessor `panin`, create an input file `a502.in` for `panair`\n",
    "3. Run the analysis\n",
    "4. Visualize the results from the analysis via `agps_converter.py` and `ffmf_converter.py`"
   ]
  },
  {
   "cell_type": "markdown",
   "metadata": {
    "collapsed": true
   },
   "source": [
    "## 1. Defining the geometry\n",
    "---------------------------------------\n",
    "\n",
    "First off, we will begin by defining the geometry of the rectangular wing.\n",
    "\n",
    "The input geometry for `panair` (or more precisely, its preprocessor `panin`) is defined in the Langley Wireframe Geometry Standard (LaWGS) format. The format is described in [reference 1](https://ntrs.nasa.gov/search.jsp?R=19850014069).  \n",
    "\n",
    "In a nutshell, LaWGS files are a bundle of matrices, which are composed of m x n 3-dimensional points. Each matrix is referred to as \"networks\". Below is an example of a LaWGS file for a delta wing.\n",
    "\n",
    "```sample1.wgs\n",
    "deltawing created from wgs_creator\n",
    "wing\n",
    "1 3 5 0   0 0 0   0 0 0    1 1 1  0\n",
    "1.0000000e+01 0.0000000e+00 0.0000000e+00\n",
    "5.0000000e+00 0.0000000e+00 1.0000000e+00\n",
    "0.0000000e+00 0.0000000e+00 0.0000000e+00\n",
    "5.0000000e+00 0.0000000e+00 -1.0000000e+00\n",
    "1.0000000e+01 0.0000000e+00 0.0000000e+00\n",
    "7.5000000e+00 1.0000000e+01 0.0000000e+00\n",
    "5.0000000e+00 1.0000000e+01 5.0000000e-01\n",
    "2.5000000e+00 1.0000000e+01 0.0000000e+00\n",
    "5.0000000e+00 1.0000000e+01 -5.0000000e-01\n",
    "7.5000000e+00 1.0000000e+01 0.0000000e+00\n",
    "5.0000000e+00 2.0000000e+01 0.0000000e+00\n",
    "5.0000000e+00 2.0000000e+01 0.0000000e+00\n",
    "5.0000000e+00 2.0000000e+01 0.0000000e+00\n",
    "5.0000000e+00 2.0000000e+01 0.0000000e+00\n",
    "5.0000000e+00 2.0000000e+01 0.0000000e+00\n",
    "```\n",
    "\n",
    "The first row displays the title of the LaWGS file.\n",
    "```\n",
    "deltawing created from wgs_creator\n",
    "```\n",
    "\n",
    "The second row displays the name of the network.\n",
    "```\n",
    "wing\n",
    "```\n",
    "\n",
    "The third row lists the parameters of the network.\n",
    "```\n",
    "1 3 5 0   0 0 0   0 0 0    1 1 1  0\n",
    "```\n",
    "The definitions of the first three numbers are as follows:\n",
    "* \"1\": the id of the network\n",
    "* \"3\": the number of lines in the network (i.e. number of rows in the matrix)\n",
    "* \"5\": the number of points in each line (i.e. number of columns in the matrix)  \n",
    "\n",
    "The remaining 11 numbers, `0   0 0 0   0 0 0    1 1 1  0`, define the local and global axis. (Read the reference for more information.)  \n",
    "\n",
    "The wireframe of the delta wing looks like this ..."
   ]
  },
  {
   "cell_type": "code",
   "execution_count": 1,
   "metadata": {
    "collapsed": true
   },
   "outputs": [],
   "source": [
    "%matplotlib notebook\n",
    "from pyPanair.preprocess import wgs_creator as wg"
   ]
  },
  {
   "cell_type": "code",
   "execution_count": 2,
   "metadata": {
    "collapsed": false
   },
   "outputs": [
    {
     "ename": "AttributeError",
     "evalue": "'numpy.ndarray' object has no attribute 'plot_wireframe'",
     "output_type": "error",
     "traceback": [
      "\u001b[0;31m---------------------------------------------------------------------------\u001b[0m",
      "\u001b[0;31mAttributeError\u001b[0m                            Traceback (most recent call last)",
      "\u001b[0;32m<ipython-input-2-4a1f6d0c2f90>\u001b[0m in \u001b[0;36m<module>\u001b[0;34m()\u001b[0m\n\u001b[1;32m      1\u001b[0m \u001b[0mdelta_wing\u001b[0m \u001b[1;33m=\u001b[0m \u001b[0mwg\u001b[0m\u001b[1;33m.\u001b[0m\u001b[0mread_wgs\u001b[0m\u001b[1;33m(\u001b[0m\u001b[1;34m\"sample1.wgs\"\u001b[0m\u001b[1;33m)\u001b[0m\u001b[1;33m\u001b[0m\u001b[0m\n\u001b[0;32m----> 2\u001b[0;31m \u001b[0mdelta_wing\u001b[0m\u001b[1;33m.\u001b[0m\u001b[0m_networks\u001b[0m\u001b[1;33m[\u001b[0m\u001b[1;36m0\u001b[0m\u001b[1;33m]\u001b[0m\u001b[1;33m.\u001b[0m\u001b[0mplot_wireframe\u001b[0m\u001b[1;33m(\u001b[0m\u001b[0mshow_normvec\u001b[0m\u001b[1;33m=\u001b[0m\u001b[1;32mFalse\u001b[0m\u001b[1;33m,\u001b[0m \u001b[0mshow_corners\u001b[0m\u001b[1;33m=\u001b[0m\u001b[1;32mFalse\u001b[0m\u001b[1;33m,\u001b[0m \u001b[0mshow_edges\u001b[0m\u001b[1;33m=\u001b[0m\u001b[1;32mFalse\u001b[0m\u001b[1;33m)\u001b[0m\u001b[1;33m\u001b[0m\u001b[0m\n\u001b[0m",
      "\u001b[0;31mAttributeError\u001b[0m: 'numpy.ndarray' object has no attribute 'plot_wireframe'"
     ]
    }
   ],
   "source": [
    "delta_wing = wg.read_wgs(\"sample1.wgs\")\n",
    "delta_wing._networks[0].plot_wireframe(show_normvec=False, show_corners=False, show_edges=False)"
   ]
  },
  {
   "cell_type": "code",
   "execution_count": null,
   "metadata": {
    "collapsed": true
   },
   "outputs": [],
   "source": []
  }
 ],
 "metadata": {
  "kernelspec": {
   "display_name": "Python 3",
   "language": "python",
   "name": "python3"
  },
  "language_info": {
   "codemirror_mode": {
    "name": "ipython",
    "version": 3
   },
   "file_extension": ".py",
   "mimetype": "text/x-python",
   "name": "python",
   "nbconvert_exporter": "python",
   "pygments_lexer": "ipython3",
   "version": "3.6.0"
  }
 },
 "nbformat": 4,
 "nbformat_minor": 0
}
