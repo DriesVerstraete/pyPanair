{
 "cells": [
  {
   "cell_type": "markdown",
   "metadata": {},
   "source": [
    "# pyPanair Tutorial#2 Tapered Wing  \n",
    "In this tutorial we will perform an analysis of a tapered wing.  \n",
    "The wing will have different wing sections at the root, kink, and tip.  \n",
    "\n",
    "Below are the planform of the wing and contour plots of the wing sections, respectively.\n",
    "\n",
    "![planform]()\n",
    "\n",
    "![wingsections]()\n",
    "\n",
    "## 1.Defining the geometry\n",
    "Just as we have done in tutorial 1, we will use the `wgs_creator` module to define the geometry of the wing.\n",
    "\n",
    "First off, we initialize a `LaWGS` object."
   ]
  },
  {
   "cell_type": "code",
   "execution_count": 4,
   "metadata": {
    "collapsed": false
   },
   "outputs": [],
   "source": [
    "from pyPanair.preprocess import wgs_creator\n",
    "wgs = wgs_creator.LaWGS(\"tapered_wing\")"
   ]
  },
  {
   "cell_type": "markdown",
   "metadata": {
    "collapsed": true
   },
   "source": [
    "Next, we create a `Line` object that defines the coordinates of the airfoil at the root of the wing.  \n",
    "To do so, we will read a csv file that contains the coordinates of the airfoil, using the `read_airfoil` function.  \n",
    "\n",
    "Three csv files, `root.csv`, `kink.csv`, and `tip.csv` have been prepared for this tutorial.  \n",
    "\n",
    "Before we creating the `Line` object, we will take a quick view of these files.\n",
    "For example, the `root.csv` looks like ...\n"
   ]
  },
  {
   "cell_type": "code",
   "execution_count": 7,
   "metadata": {
    "collapsed": false
   },
   "outputs": [
    {
     "data": {
      "text/html": [
       "<div>\n",
       "<table border=\"1\" class=\"dataframe\">\n",
       "  <thead>\n",
       "    <tr style=\"text-align: right;\">\n",
       "      <th></th>\n",
       "      <th>xup/c</th>\n",
       "      <th>zup/c</th>\n",
       "      <th>xlow/c</th>\n",
       "      <th>zlow/c</th>\n",
       "    </tr>\n",
       "  </thead>\n",
       "  <tbody>\n",
       "    <tr>\n",
       "      <th>0</th>\n",
       "      <td>0.000000</td>\n",
       "      <td>0.000000</td>\n",
       "      <td>0.000000</td>\n",
       "      <td>0.000000</td>\n",
       "    </tr>\n",
       "    <tr>\n",
       "      <th>1</th>\n",
       "      <td>0.000602</td>\n",
       "      <td>0.003165</td>\n",
       "      <td>0.000602</td>\n",
       "      <td>-0.003160</td>\n",
       "    </tr>\n",
       "    <tr>\n",
       "      <th>2</th>\n",
       "      <td>0.002408</td>\n",
       "      <td>0.006306</td>\n",
       "      <td>0.002408</td>\n",
       "      <td>-0.006308</td>\n",
       "    </tr>\n",
       "    <tr>\n",
       "      <th>3</th>\n",
       "      <td>0.005412</td>\n",
       "      <td>0.009416</td>\n",
       "      <td>0.005412</td>\n",
       "      <td>-0.009443</td>\n",
       "    </tr>\n",
       "    <tr>\n",
       "      <th>4</th>\n",
       "      <td>0.009607</td>\n",
       "      <td>0.012480</td>\n",
       "      <td>0.009607</td>\n",
       "      <td>-0.012559</td>\n",
       "    </tr>\n",
       "    <tr>\n",
       "      <th>...</th>\n",
       "      <td>...</td>\n",
       "      <td>...</td>\n",
       "      <td>...</td>\n",
       "      <td>...</td>\n",
       "    </tr>\n",
       "    <tr>\n",
       "      <th>60</th>\n",
       "      <td>0.990393</td>\n",
       "      <td>0.002001</td>\n",
       "      <td>0.990393</td>\n",
       "      <td>0.000497</td>\n",
       "    </tr>\n",
       "    <tr>\n",
       "      <th>61</th>\n",
       "      <td>0.994588</td>\n",
       "      <td>0.001137</td>\n",
       "      <td>0.994588</td>\n",
       "      <td>0.000296</td>\n",
       "    </tr>\n",
       "    <tr>\n",
       "      <th>62</th>\n",
       "      <td>0.997592</td>\n",
       "      <td>0.000510</td>\n",
       "      <td>0.997592</td>\n",
       "      <td>0.000137</td>\n",
       "    </tr>\n",
       "    <tr>\n",
       "      <th>63</th>\n",
       "      <td>0.999398</td>\n",
       "      <td>0.000128</td>\n",
       "      <td>0.999398</td>\n",
       "      <td>0.000035</td>\n",
       "    </tr>\n",
       "    <tr>\n",
       "      <th>64</th>\n",
       "      <td>1.000000</td>\n",
       "      <td>0.000000</td>\n",
       "      <td>1.000000</td>\n",
       "      <td>0.000000</td>\n",
       "    </tr>\n",
       "  </tbody>\n",
       "</table>\n",
       "<p>65 rows × 4 columns</p>\n",
       "</div>"
      ],
      "text/plain": [
       "       xup/c     zup/c    xlow/c    zlow/c\n",
       "0   0.000000  0.000000  0.000000  0.000000\n",
       "1   0.000602  0.003165  0.000602 -0.003160\n",
       "2   0.002408  0.006306  0.002408 -0.006308\n",
       "3   0.005412  0.009416  0.005412 -0.009443\n",
       "4   0.009607  0.012480  0.009607 -0.012559\n",
       "..       ...       ...       ...       ...\n",
       "60  0.990393  0.002001  0.990393  0.000497\n",
       "61  0.994588  0.001137  0.994588  0.000296\n",
       "62  0.997592  0.000510  0.997592  0.000137\n",
       "63  0.999398  0.000128  0.999398  0.000035\n",
       "64  1.000000  0.000000  1.000000  0.000000\n",
       "\n",
       "[65 rows x 4 columns]"
      ]
     },
     "execution_count": 7,
     "metadata": {},
     "output_type": "execute_result"
    }
   ],
   "source": [
    "import pandas as pd\n",
    "pd.set_option(\"display.max_rows\", 10)\n",
    "pd.read_csv(\"root.csv\")"
   ]
  },
  {
   "cell_type": "code",
   "execution_count": null,
   "metadata": {
    "collapsed": true
   },
   "outputs": [],
   "source": []
  }
 ],
 "metadata": {
  "anaconda-cloud": {},
  "kernelspec": {
   "display_name": "Python [default]",
   "language": "python",
   "name": "python3"
  },
  "language_info": {
   "codemirror_mode": {
    "name": "ipython",
    "version": 3
   },
   "file_extension": ".py",
   "mimetype": "text/x-python",
   "name": "python",
   "nbconvert_exporter": "python",
   "pygments_lexer": "ipython3",
   "version": "3.5.2"
  }
 },
 "nbformat": 4,
 "nbformat_minor": 2
}
