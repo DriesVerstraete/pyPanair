{
 "cells": [
  {
   "cell_type": "markdown",
   "metadata": {},
   "source": [
    "# pyPanair Tutorial#3 Wing/body model\n",
    "In this tutorial we will perform an analysis of a wing/body configuration.  \n",
    "\n",
    "The model is based on the [AGARD-B model<sup>1</sup>](http://www.uwal.org/download/documents/agardcalmodelspecs.pdf)  \n",
    "(The sting is not included, and the aft-body is slightly modified for this tutorial.)\n",
    "![uppersurface]()\n",
    "\n",
    "## 1.Defining the geometry\n",
    "\n",
    "The model will be composed from eight networks:    \n",
    "\n",
    "1. Wing  \n",
    "2. Nose  \n",
    "3. Mid-body\n",
    "4. Aft-body\n",
    "5. Body base\n",
    "6. Wing wake\n",
    "7. Body base wake\n",
    "8. Body wake\n",
    "\n",
    "The geometry of the model is defined in terms of the body diameter `D`.  \n",
    "For simplicity, it will be set at `D=1`.\n",
    "\n",
    "### 1.1 Wing\n",
    "\n",
    "First, initialize a `LaWGS` object."
   ]
  },
  {
   "cell_type": "code",
   "execution_count": 4,
   "metadata": {
    "collapsed": false
   },
   "outputs": [],
   "source": [
    "from pyPanair.preprocess import wgs_creator\n",
    "wgs = wgs_creator.LaWGS(\"agardb_mod\")"
   ]
  },
  {
   "cell_type": "markdown",
   "metadata": {},
   "source": [
    "Next, we will create a `Line` object that defines the airfoil at the wing root.  \n",
    "The airfoil of the AGARD-B model is a circular-arc airfoil of 4% thickness.  \n",
    "A csv file has been prepared in advance. \n",
    "The coordinates in `circular_arc.csv` are normalized, so when using the `read_airfoil` function, we shall set the `expantion_ratio` at `2.3093` (equal to the root chord length). "
   ]
  },
  {
   "cell_type": "code",
   "execution_count": null,
   "metadata": {
    "collapsed": true
   },
   "outputs": [],
   "source": [
    "wgs_creator.read_airfoil"
   ]
  }
 ],
 "metadata": {
  "anaconda-cloud": {},
  "kernelspec": {
   "display_name": "Python 3",
   "language": "python",
   "name": "python3"
  },
  "language_info": {
   "codemirror_mode": {
    "name": "ipython",
    "version": 3
   },
   "file_extension": ".py",
   "mimetype": "text/x-python",
   "name": "python",
   "nbconvert_exporter": "python",
   "pygments_lexer": "ipython3",
   "version": "3.6.0"
  }
 },
 "nbformat": 4,
 "nbformat_minor": 2
}
